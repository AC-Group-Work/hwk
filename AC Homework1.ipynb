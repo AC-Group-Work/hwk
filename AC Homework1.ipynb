{
 "cells": [
  {
   "cell_type": "code",
   "execution_count": 59,
   "metadata": {},
   "outputs": [],
   "source": [
    "%matplotlib tk\n",
    "import scipy.io.wavfile as wav\n",
    "import pyaudio\n",
    "import wave\n",
    "import numpy as np\n",
    "import matplotlib.pyplot as plt"
   ]
  },
  {
   "cell_type": "code",
   "execution_count": null,
   "metadata": {},
   "outputs": [],
   "source": [
    "#*******************************\n",
    "#       Play back Audio\n",
    "#*******************************\n",
    "\n",
    "def play_track(filename):\n",
    "    \n",
    "    CHUNK = 1024\n",
    "\n",
    "    # instantiate PyAudio\n",
    "    p = pyaudio.PyAudio() \n",
    "\n",
    "    # Open stream to play audio. Using wf, get sample width, no. of channels and sampling frequency\n",
    "    wf = wave.open(filename,'rb')\n",
    "    stream = p.open(format=p.get_format_from_width(wf.getsampwidth()),\n",
    "                    channels=wf.getnchannels(),\n",
    "                    rate=wf.getframerate(),output = True)\n",
    "\n",
    "    # read data in chunks of 1 MB\n",
    "    data = wf.readframes(CHUNK)\n",
    "\n",
    "    # write data to stream to play audio\n",
    "    while len(data) > 0:\n",
    "        stream.write(data)\n",
    "        data = wf.readframes(CHUNK)\n",
    "        \n",
    "    # stop stream\n",
    "    stream.stop_stream()\n",
    "    stream.close()\n",
    "\n",
    "    # close PyAudio\n",
    "    p.terminate()\n",
    "    print('Done')"
   ]
  },
  {
   "cell_type": "code",
   "execution_count": 67,
   "metadata": {},
   "outputs": [],
   "source": [
    "#*******************************\n",
    "#            Plot\n",
    "#*******************************\n",
    "\n",
    "def plot_audio(filename, channel):\n",
    "    rate, data1 = wav.read(filename)\n",
    "    t = np.linspace(0,len(data1)//rate,len(data1))\n",
    "    plt.plot(t,data1[:,channel])\n",
    "    plt.xlabel('Time')\n",
    "    plt.ylabel('Amplitude')\n",
    "    plt.title('Audio Plot')\n",
    "    #plt.legend()"
   ]
  },
  {
   "cell_type": "code",
   "execution_count": 69,
   "metadata": {},
   "outputs": [
    {
     "name": "stderr",
     "output_type": "stream",
     "text": [
      "No handles with labels found to put in legend.\n"
     ]
    }
   ],
   "source": [
    "#plot_audio('achtSecSlice.wav')\n",
    "plot_audio('mid8secsnorm.wav', 0)"
   ]
  },
  {
   "cell_type": "code",
   "execution_count": 71,
   "metadata": {},
   "outputs": [
    {
     "name": "stdout",
     "output_type": "stream",
     "text": [
      "16000\n",
      "[[ 0 -1]\n",
      " [ 0 -1]\n",
      " [ 0  0]\n",
      " ...\n",
      " [ 0  0]\n",
      " [-1  0]\n",
      " [ 0  0]]\n"
     ]
    }
   ],
   "source": [
    "#Read Audio\n",
    "\n",
    "rate, data = wav.read('Track16.wav')\n",
    "print(rate)\n",
    "print(data)\n",
    "\n",
    "# number of samples N\n",
    "N = data.shape[0]"
   ]
  },
  {
   "cell_type": "code",
   "execution_count": 74,
   "metadata": {},
   "outputs": [],
   "source": [
    "#**************************************************    \n",
    "#         Extract 8 seconds from middle\n",
    "#**************************************************\n",
    "\n",
    "# Translate seconds to samples\n",
    "secs_in_samples = float(fs)*8 # time = number_of_samples / rate\n",
    "\n",
    "midpoint_sample = N//2 # Midpoint of sample\n",
    "\n",
    "# substract 4 seconds from midpoint\n",
    "left_side = midpoint_sample-(secs_in_samples//2) \n",
    "\n",
    "# Add 4 seconds from midpoint up\n",
    "right_side = midpoint_sample + (secs_in_samples//2)\n",
    "\n",
    "# The midpoint of samples is therefore:\n",
    "mid8secs = data[int(left_side):int(right_side)] # this range contains the required samples\n",
    "\n",
    "mid8secsnorm = mid8secs/1379\n",
    "\n",
    "# Save the file\n",
    "wav.write(\"mid8secs.wav\",rate,mid8secs)\n",
    "wav.write(\"mid8secsnorm.wav\",rate,mid8secsnorm)\n"
   ]
  },
  {
   "cell_type": "code",
   "execution_count": 70,
   "metadata": {},
   "outputs": [
    {
     "data": {
      "text/plain": [
       "numpy.ndarray"
      ]
     },
     "execution_count": 70,
     "metadata": {},
     "output_type": "execute_result"
    }
   ],
   "source": []
  },
  {
   "cell_type": "code",
   "execution_count": 44,
   "metadata": {},
   "outputs": [
    {
     "data": {
      "text/plain": [
       "array('Track16', dtype='<U7')"
      ]
     },
     "execution_count": 44,
     "metadata": {},
     "output_type": "execute_result"
    }
   ],
   "source": [
    "np.asarray(Track16')"
   ]
  },
  {
   "cell_type": "code",
   "execution_count": 72,
   "metadata": {},
   "outputs": [
    {
     "name": "stdout",
     "output_type": "stream",
     "text": [
      "Done\n"
     ]
    }
   ],
   "source": [
    "play_track('Track16.wav')"
   ]
  },
  {
   "cell_type": "code",
   "execution_count": 75,
   "metadata": {},
   "outputs": [
    {
     "name": "stdout",
     "output_type": "stream",
     "text": [
      "Done\n"
     ]
    }
   ],
   "source": [
    "play_track('mid8secs.wav')"
   ]
  },
  {
   "cell_type": "code",
   "execution_count": 16,
   "metadata": {},
   "outputs": [],
   "source": [
    "plot_audio()"
   ]
  },
  {
   "cell_type": "code",
   "execution_count": 47,
   "metadata": {},
   "outputs": [
    {
     "data": {
      "text/plain": [
       "(447573, 2)"
      ]
     },
     "execution_count": 47,
     "metadata": {},
     "output_type": "execute_result"
    }
   ],
   "source": [
    "data.shape"
   ]
  },
  {
   "cell_type": "code",
   "execution_count": 57,
   "metadata": {},
   "outputs": [
    {
     "data": {
      "text/plain": [
       "array([1379,  -35], dtype=int16)"
      ]
     },
     "execution_count": 57,
     "metadata": {},
     "output_type": "execute_result"
    }
   ],
   "source": [
    "np.maximum(mid8secs[0],mid8secs[1])"
   ]
  },
  {
   "cell_type": "code",
   "execution_count": 58,
   "metadata": {},
   "outputs": [
    {
     "data": {
      "text/plain": [
       "(128000, 2)"
      ]
     },
     "execution_count": 58,
     "metadata": {},
     "output_type": "execute_result"
    }
   ],
   "source": [
    "mid8secs.shape"
   ]
  },
  {
   "cell_type": "code",
   "execution_count": null,
   "metadata": {},
   "outputs": [],
   "source": []
  }
 ],
 "metadata": {
  "kernelspec": {
   "display_name": "Python 3",
   "language": "python",
   "name": "python3"
  },
  "language_info": {
   "codemirror_mode": {
    "name": "ipython",
    "version": 3
   },
   "file_extension": ".py",
   "mimetype": "text/x-python",
   "name": "python",
   "nbconvert_exporter": "python",
   "pygments_lexer": "ipython3",
   "version": "3.7.5"
  }
 },
 "nbformat": 4,
 "nbformat_minor": 2
}
